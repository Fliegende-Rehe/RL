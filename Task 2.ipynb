{
 "nbformat": 4,
 "nbformat_minor": 0,
 "metadata": {
  "colab": {
   "provenance": []
  },
  "kernelspec": {
   "name": "python3",
   "display_name": "Python 3"
  },
  "language_info": {
   "name": "python"
  }
 },
 "cells": [
  {
   "cell_type": "markdown",
   "source": [
    "# RL Final Project\n",
    "\n",
    "Now it's finally time to put into use what we have learned so far in this course!\n",
    "\n",
    "The aim of this project is to assess your practical knowledge in Reinforcement Learning.\n",
    "\n",
    "your project consist of 2 parts. you will get the chance to work with 2 different environment.\n"
   ],
   "metadata": {
    "id": "AQWaHq-KLtHi"
   }
  },
  {
   "cell_type": "markdown",
   "source": [
    "## 2.Atari Game Pong"
   ],
   "metadata": {
    "id": "TdA4hr4kR33L"
   }
  },
  {
   "cell_type": "markdown",
   "source": [],
   "metadata": {
    "id": "bS8EasNeaVx-"
   }
  },
  {
   "cell_type": "markdown",
   "source": [
    "**[Pong](https://www.gymlibrary.dev/environments/atari/pong/)** is a famus atari game that almost all of us have played it at least once!\n",
    "The goal of this task is to get engage with **gym** library and use Deep Reinforcement Learning to train an agent which can actually play this game!"
   ],
   "metadata": {
    "id": "lD3mZJkBWGxp"
   }
  },
  {
   "cell_type": "code",
   "source": [
    "# !pip install ALE gym\n",
    "!pip install \"gym[accept-rom-license, atari]\""
   ],
   "metadata": {
    "id": "nq9-gTd4Whko"
   },
   "execution_count": 4,
   "outputs": [
    {
     "name": "stdout",
     "output_type": "stream",
     "text": [
      "Requirement already satisfied: gym[accept-rom-license,atari] in c:\\users\\bulkin\\appdata\\local\\programs\\python\\python39\\lib\\site-packages (0.26.2)\n",
      "Requirement already satisfied: gym-notices>=0.0.4 in c:\\users\\bulkin\\appdata\\local\\programs\\python\\python39\\lib\\site-packages (from gym[accept-rom-license,atari]) (0.0.8)\n",
      "Requirement already satisfied: numpy>=1.18.0 in c:\\users\\bulkin\\appdata\\local\\programs\\python\\python39\\lib\\site-packages (from gym[accept-rom-license,atari]) (1.23.5)\n",
      "Requirement already satisfied: cloudpickle>=1.2.0 in c:\\users\\bulkin\\appdata\\local\\programs\\python\\python39\\lib\\site-packages (from gym[accept-rom-license,atari]) (2.2.1)\n",
      "Requirement already satisfied: importlib-metadata>=4.8.0 in c:\\users\\bulkin\\appdata\\local\\programs\\python\\python39\\lib\\site-packages (from gym[accept-rom-license,atari]) (4.12.0)\n",
      "Requirement already satisfied: autorom[accept-rom-license]~=0.4.2 in c:\\users\\bulkin\\appdata\\local\\programs\\python\\python39\\lib\\site-packages (from gym[accept-rom-license,atari]) (0.4.2)\n",
      "Requirement already satisfied: ale-py~=0.8.0 in c:\\users\\bulkin\\appdata\\local\\programs\\python\\python39\\lib\\site-packages (from gym[accept-rom-license,atari]) (0.8.1)\n",
      "Requirement already satisfied: importlib-resources in c:\\users\\bulkin\\appdata\\local\\programs\\python\\python39\\lib\\site-packages (from ale-py~=0.8.0->gym[accept-rom-license,atari]) (5.12.0)\n",
      "Requirement already satisfied: typing-extensions in c:\\users\\bulkin\\appdata\\local\\programs\\python\\python39\\lib\\site-packages (from ale-py~=0.8.0->gym[accept-rom-license,atari]) (4.2.0)\n",
      "Requirement already satisfied: requests in c:\\users\\bulkin\\appdata\\local\\programs\\python\\python39\\lib\\site-packages (from autorom[accept-rom-license]~=0.4.2->gym[accept-rom-license,atari]) (2.26.0)\n",
      "Requirement already satisfied: click in c:\\users\\bulkin\\appdata\\local\\programs\\python\\python39\\lib\\site-packages (from autorom[accept-rom-license]~=0.4.2->gym[accept-rom-license,atari]) (8.1.3)\n",
      "Requirement already satisfied: tqdm in c:\\users\\bulkin\\appdata\\local\\programs\\python\\python39\\lib\\site-packages (from autorom[accept-rom-license]~=0.4.2->gym[accept-rom-license,atari]) (4.65.0)\n",
      "Requirement already satisfied: AutoROM.accept-rom-license in c:\\users\\bulkin\\appdata\\local\\programs\\python\\python39\\lib\\site-packages (from autorom[accept-rom-license]~=0.4.2->gym[accept-rom-license,atari]) (0.6.1)\n",
      "Requirement already satisfied: zipp>=0.5 in c:\\users\\bulkin\\appdata\\local\\programs\\python\\python39\\lib\\site-packages (from importlib-metadata>=4.8.0->gym[accept-rom-license,atari]) (3.8.0)\n",
      "Requirement already satisfied: colorama in c:\\users\\bulkin\\appdata\\local\\programs\\python\\python39\\lib\\site-packages (from click->autorom[accept-rom-license]~=0.4.2->gym[accept-rom-license,atari]) (0.4.4)\n",
      "Requirement already satisfied: idna<4,>=2.5 in c:\\users\\bulkin\\appdata\\local\\programs\\python\\python39\\lib\\site-packages (from requests->autorom[accept-rom-license]~=0.4.2->gym[accept-rom-license,atari]) (3.2)\n",
      "Requirement already satisfied: charset-normalizer~=2.0.0 in c:\\users\\bulkin\\appdata\\local\\programs\\python\\python39\\lib\\site-packages (from requests->autorom[accept-rom-license]~=0.4.2->gym[accept-rom-license,atari]) (2.0.4)\n",
      "Requirement already satisfied: urllib3<1.27,>=1.21.1 in c:\\users\\bulkin\\appdata\\local\\programs\\python\\python39\\lib\\site-packages (from requests->autorom[accept-rom-license]~=0.4.2->gym[accept-rom-license,atari]) (1.26.6)\n",
      "Requirement already satisfied: certifi>=2017.4.17 in c:\\users\\bulkin\\appdata\\local\\programs\\python\\python39\\lib\\site-packages (from requests->autorom[accept-rom-license]~=0.4.2->gym[accept-rom-license,atari]) (2021.5.30)\n"
     ]
    },
    {
     "name": "stderr",
     "output_type": "stream",
     "text": [
      "\n",
      "[notice] A new release of pip is available: 23.0.1 -> 23.1.2\n",
      "[notice] To update, run: python.exe -m pip install --upgrade pip\n"
     ]
    }
   ]
  },
  {
   "cell_type": "markdown",
   "source": [
    "You might face some problems rendering the environments in colab. so for this task try running it locally in your machine."
   ],
   "metadata": {
    "id": "_SbNcuaZZDo9"
   }
  },
  {
   "cell_type": "code",
   "execution_count": 113,
   "outputs": [],
   "source": [
    "import torch\n",
    "import numpy"
   ],
   "metadata": {
    "collapsed": false,
    "pycharm": {
     "name": "#%%\n"
    }
   }
  },
  {
   "cell_type": "code",
   "execution_count": 114,
   "outputs": [],
   "source": [
    "class LearningConstants:\n",
    "    discount_factor: float = 0.99\n",
    "    device: str = \"cuda\" if torch.cuda.is_available() else \"cpu\"\n",
    "    width = 30\n",
    "    height = 30\n",
    "    policy_learning_rate = 0.01\n",
    "    state_value_approximation_learning_rate = 0.01"
   ],
   "metadata": {
    "collapsed": false,
    "pycharm": {
     "name": "#%%\n"
    }
   }
  },
  {
   "cell_type": "code",
   "execution_count": 115,
   "outputs": [],
   "source": [
    "from PIL import Image\n",
    "from torchvision.transforms.functional import crop, to_grayscale, adjust_contrast, resize\n",
    "class ProcessState:\n",
    "\n",
    "    def __init__(self, tensor_state: torch.Tensor) -> None:\n",
    "        self.tensor_state: torch.Tensor = tensor_state\n",
    "\n",
    "    @staticmethod\n",
    "    def fromObservation(observation: numpy.ndarray):\n",
    "\n",
    "        observation = Image.fromarray(observation)\n",
    "        observation = crop(observation, top=34, left=0, height=160, width=160)\n",
    "        observation = resize(observation, [LearningConstants.height, LearningConstants.width])\n",
    "        observation = adjust_contrast(to_grayscale(observation), 100.0)\n",
    "\n",
    "        # observation.show()\n",
    "\n",
    "        return ProcessState(\n",
    "            tensor_state = torch.tensor(numpy.asarray(observation))\n",
    "        )\n",
    "\n",
    "\n",
    "    def __call__(self, *args, **kwargs) -> torch.Tensor:\n",
    "        return self.tensor_state"
   ],
   "metadata": {
    "collapsed": false,
    "pycharm": {
     "name": "#%%\n"
    }
   }
  },
  {
   "cell_type": "code",
   "execution_count": 116,
   "outputs": [],
   "source": [
    "class Step:\n",
    "\n",
    "    def __init__(self, observation_tensor, action, reward, log_prob) -> None:\n",
    "        self.observation_tensor = observation_tensor\n",
    "        self.action = action\n",
    "        self.reward = reward\n",
    "        self.log_prob = log_prob\n",
    "\n",
    "\n",
    "class History:\n",
    "\n",
    "    def __init__(self) -> None:\n",
    "        self.steps = []\n",
    "\n",
    "    def addStep(self, step: Step) -> None:\n",
    "        self.steps.append(step)"
   ],
   "metadata": {
    "collapsed": false,
    "pycharm": {
     "name": "#%%\n"
    }
   }
  },
  {
   "cell_type": "code",
   "execution_count": 117,
   "outputs": [],
   "source": [
    "import torch.nn as nn\n",
    "import numpy as np\n",
    "from torch.nn.functional import sigmoid\n",
    "class PolicyNetwork(torch.nn.Module):\n",
    "\n",
    "    def __init__(self, shape, n_actions) -> None:\n",
    "        super(PolicyNetwork, self).__init__()\n",
    "        self.conv = nn.Sequential(\n",
    "            nn.Conv2d(1, 8, kernel_size=4, stride=2),\n",
    "            nn.ReLU(),\n",
    "            nn.Conv2d(8, 16, kernel_size=3, stride=1),\n",
    "            nn.ReLU(),\n",
    "            nn.Conv2d(16, 16, kernel_size=2, stride=1),\n",
    "            nn.ReLU()\n",
    "        )\n",
    "\n",
    "        conv_out_size = self._get_conv_out((30, 30))\n",
    "        self.fc = nn.Sequential(\n",
    "            nn.Linear(conv_out_size, 512),\n",
    "            nn.ReLU(),\n",
    "            nn.Linear(512, n_actions)\n",
    "        )\n",
    "\n",
    "    def _get_conv_out(self, shape):\n",
    "        o = self.conv(torch.zeros(1, *shape))\n",
    "        return int(np.prod(o.size()))\n",
    "\n",
    "    def forward(self, x):\n",
    "        conv_out = self.conv(x).view(x.size()[0], -1)\n",
    "        return sigmoid(self.fc(conv_out))"
   ],
   "metadata": {
    "collapsed": false,
    "pycharm": {
     "name": "#%%\n"
    }
   }
  },
  {
   "cell_type": "code",
   "execution_count": 118,
   "outputs": [],
   "source": [
    "\n",
    "\n",
    "class StateValueApproximationNetwork(torch.nn.Module):\n",
    "\n",
    "    def __init__(self, shape) -> None:\n",
    "        super(StateValueApproximationNetwork, self).__init__()\n",
    "        self.conv = nn.Sequential(\n",
    "            nn.Conv2d(1, 8, kernel_size=4, stride=2),\n",
    "            nn.ReLU(),\n",
    "            nn.Conv2d(8, 16, kernel_size=3, stride=1),\n",
    "            nn.ReLU(),\n",
    "            nn.Conv2d(16, 16, kernel_size=2, stride=1),\n",
    "            nn.ReLU()\n",
    "        )\n",
    "\n",
    "        conv_out_size = self._get_conv_out((30, 30))\n",
    "        self.fc = nn.Sequential(\n",
    "            nn.Linear(conv_out_size, 512),\n",
    "            nn.ReLU(),\n",
    "            nn.Linear(512, 1)\n",
    "        )\n",
    "\n",
    "    def _get_conv_out(self, shape):\n",
    "        o = self.conv(torch.zeros(1, *shape))\n",
    "        return int(np.prod(o.size()))\n",
    "\n",
    "    def forward(self, x):\n",
    "        conv_out = self.conv(x).view(x.size()[0], -1)\n",
    "        return self.fc(conv_out)\n"
   ],
   "metadata": {
    "collapsed": false,
    "pycharm": {
     "name": "#%%\n"
    }
   }
  },
  {
   "cell_type": "code",
   "execution_count": 118,
   "outputs": [],
   "source": [],
   "metadata": {
    "collapsed": false,
    "pycharm": {
     "name": "#%%\n"
    }
   }
  },
  {
   "cell_type": "code",
   "execution_count": 119,
   "outputs": [],
   "source": [
    "class Agent:\n",
    "    def __init__(\n",
    "            self,\n",
    "            policy_network: PolicyNetwork,\n",
    "            state_value_approximation_network: StateValueApproximationNetwork) -> None:\n",
    "        self.policy_network: PolicyNetwork = policy_network\n",
    "        self.state_value_approximation_network: StateValueApproximationNetwork = state_value_approximation_network\n",
    "\n",
    "        self.policy_network_optimizer = torch.optim.Adam(self.policy_network.parameters(), lr = LearningConstants.policy_learning_rate)\n",
    "        self.state_value_approximation_network_optimizer = torch.optim.Adam(self.state_value_approximation_network.parameters(),\n",
    "                                                                            lr = LearningConstants.state_value_approximation_learning_rate)\n",
    "        self.previous_state: ProcessState = None\n",
    "\n",
    "    def selectAction(self, state: torch.Tensor) -> tuple:\n",
    "        state_tensor: torch.Tensor = state.float().unsqueeze(0).to(LearningConstants.device)\n",
    "        # print(state_tensor)\n",
    "        # print(state_tensor.shape)\n",
    "        probability_of_actions = self.policy_network(state_tensor)\n",
    "        distr = torch.distributions.Categorical(probability_of_actions[0])\n",
    "        action = distr.sample()\n",
    "        return action.item(), distr.log_prob(action)\n",
    "\n",
    "    def convertRewardsToCummulative(self, rewards_array: list) -> torch.Tensor:\n",
    "        # CDR - Cummulative discounted rewards\n",
    "        CDR = list()\n",
    "        cummulation = 0\n",
    "        for reward in rewards_array[::-1]:\n",
    "            cummulation = reward + cummulation * LearningConstants.discount_factor\n",
    "            CDR.append(cummulation)\n",
    "        CDR.reverse()\n",
    "        CDR = torch.tensor(CDR).to(LearningConstants.device)\n",
    "        return ((CDR - CDR.mean()) / CDR.std())\n",
    "\n",
    "    def trainPolicyNetwork(self, deltas, log_probs) -> float:\n",
    "        policy_loss = []\n",
    "        for i in range(len(deltas)):\n",
    "            policy_loss.append(\n",
    "                deltas[i] * log_probs[i] * -1\n",
    "            )\n",
    "        self.policy_network_optimizer.zero_grad()\n",
    "        sum(policy_loss).backward()\n",
    "        self.policy_network_optimizer.step()\n",
    "        return sum(policy_loss).item()\n",
    "\n",
    "    def trainStateValueApproximationNetwork(self, CDR, SPV) -> float:\n",
    "        #CDR - cummulative discounted reward\n",
    "        #SPV - state predicted values\n",
    "        loss = torch.nn.functional.mse_loss(SPV, CDR)\n",
    "        self.state_value_approximation_network_optimizer.zero_grad()\n",
    "        loss.backward()\n",
    "        self.state_value_approximation_network_optimizer.step()\n",
    "        return loss.sum().item()\n",
    "\n",
    "    def setPreviousState(self, state: ProcessState) -> None:\n",
    "        self.previous_state = state\n",
    "\n",
    "    def getStateChangeAndUpdatePrevious(self, current_state: ProcessState) -> torch.Tensor:\n",
    "        tensor_to_return = current_state.tensor_state - self.previous_state.tensor_state if self.previous_state is not None else current_state.tensor_state\n",
    "        self.previous_state = current_state\n",
    "        return tensor_to_return\n",
    "\n",
    "    def learn(self, history: History) -> tuple[float, float]:\n",
    "        states = [step.observation_tensor for step in history.steps]\n",
    "        actions = [step.action for step in history.steps]\n",
    "        rewards = [step.reward for step in history.steps]\n",
    "        log_probs = [step.log_prob for step in history.steps]\n",
    "\n",
    "        CDR = self.convertRewardsToCummulative(rewards)\n",
    "        state_values = []\n",
    "        for state in states:\n",
    "            state = state.float().unsqueeze(0).to(LearningConstants.device)\n",
    "            state_values.append(self.state_value_approximation_network(state))\n",
    "        state_values = torch.stack(state_values).squeeze()\n",
    "        loss_SV_ANN = self.trainStateValueApproximationNetwork(CDR, state_values)\n",
    "        deltas = [gt - val for gt, val in zip(CDR, state_values)]\n",
    "        deltas = torch.tensor(deltas).to(LearningConstants.device)\n",
    "        loss_PLC_ANN = self.trainPolicyNetwork(deltas, log_probs)\n",
    "        return loss_SV_ANN, loss_PLC_ANN\n",
    "\n"
   ],
   "metadata": {
    "collapsed": false,
    "pycharm": {
     "name": "#%%\n"
    }
   }
  },
  {
   "cell_type": "code",
   "source": [],
   "metadata": {
    "id": "p6T-o8XRQ54i"
   },
   "execution_count": 119,
   "outputs": []
  },
  {
   "cell_type": "code",
   "execution_count": 120,
   "outputs": [],
   "source": [
    "\n",
    "agent = Agent(\n",
    "    PolicyNetwork(\n",
    "        (LearningConstants.width, LearningConstants.height), 6\n",
    "    ),\n",
    "    StateValueApproximationNetwork(\n",
    "        (LearningConstants.width, LearningConstants.height)\n",
    "    )\n",
    ")"
   ],
   "metadata": {
    "collapsed": false,
    "pycharm": {
     "name": "#%%\n"
    }
   }
  },
  {
   "cell_type": "code",
   "execution_count": 122,
   "outputs": [
    {
     "name": "stderr",
     "output_type": "stream",
     "text": [
      "  8%|▊         | 84/1000 [23:26<4:15:35, 16.74s/it]\n"
     ]
    },
    {
     "ename": "KeyboardInterrupt",
     "evalue": "",
     "output_type": "error",
     "traceback": [
      "\u001B[1;31m---------------------------------------------------------------------------\u001B[0m",
      "\u001B[1;31mKeyboardInterrupt\u001B[0m                         Traceback (most recent call last)",
      "\u001B[1;32m~\\AppData\\Local\\Temp/ipykernel_6116/3635604560.py\u001B[0m in \u001B[0;36m<module>\u001B[1;34m\u001B[0m\n\u001B[0;32m     33\u001B[0m             \u001B[1;32mbreak\u001B[0m\u001B[1;33m\u001B[0m\u001B[1;33m\u001B[0m\u001B[0m\n\u001B[0;32m     34\u001B[0m     \u001B[0mscores_reached\u001B[0m\u001B[1;33m.\u001B[0m\u001B[0mappend\u001B[0m\u001B[1;33m(\u001B[0m\u001B[0mscore\u001B[0m\u001B[1;33m)\u001B[0m\u001B[1;33m\u001B[0m\u001B[1;33m\u001B[0m\u001B[0m\n\u001B[1;32m---> 35\u001B[1;33m     \u001B[0mSV_ANN_loss\u001B[0m\u001B[1;33m,\u001B[0m \u001B[0mPLC_ANN_loss\u001B[0m \u001B[1;33m=\u001B[0m \u001B[0magent\u001B[0m\u001B[1;33m.\u001B[0m\u001B[0mlearn\u001B[0m\u001B[1;33m(\u001B[0m\u001B[0mhistory\u001B[0m\u001B[1;33m)\u001B[0m\u001B[1;33m\u001B[0m\u001B[1;33m\u001B[0m\u001B[0m\n\u001B[0m\u001B[0;32m     36\u001B[0m     \u001B[1;32mwith\u001B[0m \u001B[0mopen\u001B[0m\u001B[1;33m(\u001B[0m\u001B[1;34m'results_2.txt'\u001B[0m\u001B[1;33m,\u001B[0m \u001B[1;34m'a'\u001B[0m\u001B[1;33m)\u001B[0m \u001B[1;32mas\u001B[0m \u001B[0mfile\u001B[0m\u001B[1;33m:\u001B[0m\u001B[1;33m\u001B[0m\u001B[1;33m\u001B[0m\u001B[0m\n\u001B[0;32m     37\u001B[0m         \u001B[0mfile\u001B[0m\u001B[1;33m.\u001B[0m\u001B[0mwrite\u001B[0m\u001B[1;33m(\u001B[0m\u001B[1;34mf\"{score};{SV_ANN_loss};{PLC_ANN_loss}\\n\"\u001B[0m\u001B[1;33m)\u001B[0m\u001B[1;33m\u001B[0m\u001B[1;33m\u001B[0m\u001B[0m\n",
      "\u001B[1;32m~\\AppData\\Local\\Temp/ipykernel_6116/2992873377.py\u001B[0m in \u001B[0;36mlearn\u001B[1;34m(self, history)\u001B[0m\n\u001B[0;32m     70\u001B[0m         \u001B[1;32mfor\u001B[0m \u001B[0mstate\u001B[0m \u001B[1;32min\u001B[0m \u001B[0mstates\u001B[0m\u001B[1;33m:\u001B[0m\u001B[1;33m\u001B[0m\u001B[1;33m\u001B[0m\u001B[0m\n\u001B[0;32m     71\u001B[0m             \u001B[0mstate\u001B[0m \u001B[1;33m=\u001B[0m \u001B[0mstate\u001B[0m\u001B[1;33m.\u001B[0m\u001B[0mfloat\u001B[0m\u001B[1;33m(\u001B[0m\u001B[1;33m)\u001B[0m\u001B[1;33m.\u001B[0m\u001B[0munsqueeze\u001B[0m\u001B[1;33m(\u001B[0m\u001B[1;36m0\u001B[0m\u001B[1;33m)\u001B[0m\u001B[1;33m.\u001B[0m\u001B[0mto\u001B[0m\u001B[1;33m(\u001B[0m\u001B[0mLearningConstants\u001B[0m\u001B[1;33m.\u001B[0m\u001B[0mdevice\u001B[0m\u001B[1;33m)\u001B[0m\u001B[1;33m\u001B[0m\u001B[1;33m\u001B[0m\u001B[0m\n\u001B[1;32m---> 72\u001B[1;33m             \u001B[0mstate_values\u001B[0m\u001B[1;33m.\u001B[0m\u001B[0mappend\u001B[0m\u001B[1;33m(\u001B[0m\u001B[0mself\u001B[0m\u001B[1;33m.\u001B[0m\u001B[0mstate_value_approximation_network\u001B[0m\u001B[1;33m(\u001B[0m\u001B[0mstate\u001B[0m\u001B[1;33m)\u001B[0m\u001B[1;33m)\u001B[0m\u001B[1;33m\u001B[0m\u001B[1;33m\u001B[0m\u001B[0m\n\u001B[0m\u001B[0;32m     73\u001B[0m         \u001B[0mstate_values\u001B[0m \u001B[1;33m=\u001B[0m \u001B[0mtorch\u001B[0m\u001B[1;33m.\u001B[0m\u001B[0mstack\u001B[0m\u001B[1;33m(\u001B[0m\u001B[0mstate_values\u001B[0m\u001B[1;33m)\u001B[0m\u001B[1;33m.\u001B[0m\u001B[0msqueeze\u001B[0m\u001B[1;33m(\u001B[0m\u001B[1;33m)\u001B[0m\u001B[1;33m\u001B[0m\u001B[1;33m\u001B[0m\u001B[0m\n\u001B[0;32m     74\u001B[0m         \u001B[0mloss_SV_ANN\u001B[0m \u001B[1;33m=\u001B[0m \u001B[0mself\u001B[0m\u001B[1;33m.\u001B[0m\u001B[0mtrainStateValueApproximationNetwork\u001B[0m\u001B[1;33m(\u001B[0m\u001B[0mCDR\u001B[0m\u001B[1;33m,\u001B[0m \u001B[0mstate_values\u001B[0m\u001B[1;33m)\u001B[0m\u001B[1;33m\u001B[0m\u001B[1;33m\u001B[0m\u001B[0m\n",
      "\u001B[1;32mc:\\users\\bulkin\\appdata\\local\\programs\\python\\python39\\lib\\site-packages\\torch\\nn\\modules\\module.py\u001B[0m in \u001B[0;36m_call_impl\u001B[1;34m(self, *args, **kwargs)\u001B[0m\n\u001B[0;32m   1499\u001B[0m                 \u001B[1;32mor\u001B[0m \u001B[0m_global_backward_pre_hooks\u001B[0m \u001B[1;32mor\u001B[0m \u001B[0m_global_backward_hooks\u001B[0m\u001B[1;33m\u001B[0m\u001B[1;33m\u001B[0m\u001B[0m\n\u001B[0;32m   1500\u001B[0m                 or _global_forward_hooks or _global_forward_pre_hooks):\n\u001B[1;32m-> 1501\u001B[1;33m             \u001B[1;32mreturn\u001B[0m \u001B[0mforward_call\u001B[0m\u001B[1;33m(\u001B[0m\u001B[1;33m*\u001B[0m\u001B[0margs\u001B[0m\u001B[1;33m,\u001B[0m \u001B[1;33m**\u001B[0m\u001B[0mkwargs\u001B[0m\u001B[1;33m)\u001B[0m\u001B[1;33m\u001B[0m\u001B[1;33m\u001B[0m\u001B[0m\n\u001B[0m\u001B[0;32m   1502\u001B[0m         \u001B[1;31m# Do not call functions when jit is used\u001B[0m\u001B[1;33m\u001B[0m\u001B[1;33m\u001B[0m\u001B[1;33m\u001B[0m\u001B[0m\n\u001B[0;32m   1503\u001B[0m         \u001B[0mfull_backward_hooks\u001B[0m\u001B[1;33m,\u001B[0m \u001B[0mnon_full_backward_hooks\u001B[0m \u001B[1;33m=\u001B[0m \u001B[1;33m[\u001B[0m\u001B[1;33m]\u001B[0m\u001B[1;33m,\u001B[0m \u001B[1;33m[\u001B[0m\u001B[1;33m]\u001B[0m\u001B[1;33m\u001B[0m\u001B[1;33m\u001B[0m\u001B[0m\n",
      "\u001B[1;32m~\\AppData\\Local\\Temp/ipykernel_6116/2179666685.py\u001B[0m in \u001B[0;36mforward\u001B[1;34m(self, x)\u001B[0m\n\u001B[0;32m     25\u001B[0m     \u001B[1;32mdef\u001B[0m \u001B[0mforward\u001B[0m\u001B[1;33m(\u001B[0m\u001B[0mself\u001B[0m\u001B[1;33m,\u001B[0m \u001B[0mx\u001B[0m\u001B[1;33m)\u001B[0m\u001B[1;33m:\u001B[0m\u001B[1;33m\u001B[0m\u001B[1;33m\u001B[0m\u001B[0m\n\u001B[0;32m     26\u001B[0m         \u001B[0mconv_out\u001B[0m \u001B[1;33m=\u001B[0m \u001B[0mself\u001B[0m\u001B[1;33m.\u001B[0m\u001B[0mconv\u001B[0m\u001B[1;33m(\u001B[0m\u001B[0mx\u001B[0m\u001B[1;33m)\u001B[0m\u001B[1;33m.\u001B[0m\u001B[0mview\u001B[0m\u001B[1;33m(\u001B[0m\u001B[0mx\u001B[0m\u001B[1;33m.\u001B[0m\u001B[0msize\u001B[0m\u001B[1;33m(\u001B[0m\u001B[1;33m)\u001B[0m\u001B[1;33m[\u001B[0m\u001B[1;36m0\u001B[0m\u001B[1;33m]\u001B[0m\u001B[1;33m,\u001B[0m \u001B[1;33m-\u001B[0m\u001B[1;36m1\u001B[0m\u001B[1;33m)\u001B[0m\u001B[1;33m\u001B[0m\u001B[1;33m\u001B[0m\u001B[0m\n\u001B[1;32m---> 27\u001B[1;33m         \u001B[1;32mreturn\u001B[0m \u001B[0mself\u001B[0m\u001B[1;33m.\u001B[0m\u001B[0mfc\u001B[0m\u001B[1;33m(\u001B[0m\u001B[0mconv_out\u001B[0m\u001B[1;33m)\u001B[0m\u001B[1;33m\u001B[0m\u001B[1;33m\u001B[0m\u001B[0m\n\u001B[0m\u001B[0;32m     28\u001B[0m \u001B[1;33m\u001B[0m\u001B[0m\n",
      "\u001B[1;32mc:\\users\\bulkin\\appdata\\local\\programs\\python\\python39\\lib\\site-packages\\torch\\nn\\modules\\module.py\u001B[0m in \u001B[0;36m_call_impl\u001B[1;34m(self, *args, **kwargs)\u001B[0m\n\u001B[0;32m   1499\u001B[0m                 \u001B[1;32mor\u001B[0m \u001B[0m_global_backward_pre_hooks\u001B[0m \u001B[1;32mor\u001B[0m \u001B[0m_global_backward_hooks\u001B[0m\u001B[1;33m\u001B[0m\u001B[1;33m\u001B[0m\u001B[0m\n\u001B[0;32m   1500\u001B[0m                 or _global_forward_hooks or _global_forward_pre_hooks):\n\u001B[1;32m-> 1501\u001B[1;33m             \u001B[1;32mreturn\u001B[0m \u001B[0mforward_call\u001B[0m\u001B[1;33m(\u001B[0m\u001B[1;33m*\u001B[0m\u001B[0margs\u001B[0m\u001B[1;33m,\u001B[0m \u001B[1;33m**\u001B[0m\u001B[0mkwargs\u001B[0m\u001B[1;33m)\u001B[0m\u001B[1;33m\u001B[0m\u001B[1;33m\u001B[0m\u001B[0m\n\u001B[0m\u001B[0;32m   1502\u001B[0m         \u001B[1;31m# Do not call functions when jit is used\u001B[0m\u001B[1;33m\u001B[0m\u001B[1;33m\u001B[0m\u001B[1;33m\u001B[0m\u001B[0m\n\u001B[0;32m   1503\u001B[0m         \u001B[0mfull_backward_hooks\u001B[0m\u001B[1;33m,\u001B[0m \u001B[0mnon_full_backward_hooks\u001B[0m \u001B[1;33m=\u001B[0m \u001B[1;33m[\u001B[0m\u001B[1;33m]\u001B[0m\u001B[1;33m,\u001B[0m \u001B[1;33m[\u001B[0m\u001B[1;33m]\u001B[0m\u001B[1;33m\u001B[0m\u001B[1;33m\u001B[0m\u001B[0m\n",
      "\u001B[1;32mc:\\users\\bulkin\\appdata\\local\\programs\\python\\python39\\lib\\site-packages\\torch\\nn\\modules\\container.py\u001B[0m in \u001B[0;36mforward\u001B[1;34m(self, input)\u001B[0m\n\u001B[0;32m    215\u001B[0m     \u001B[1;32mdef\u001B[0m \u001B[0mforward\u001B[0m\u001B[1;33m(\u001B[0m\u001B[0mself\u001B[0m\u001B[1;33m,\u001B[0m \u001B[0minput\u001B[0m\u001B[1;33m)\u001B[0m\u001B[1;33m:\u001B[0m\u001B[1;33m\u001B[0m\u001B[1;33m\u001B[0m\u001B[0m\n\u001B[0;32m    216\u001B[0m         \u001B[1;32mfor\u001B[0m \u001B[0mmodule\u001B[0m \u001B[1;32min\u001B[0m \u001B[0mself\u001B[0m\u001B[1;33m:\u001B[0m\u001B[1;33m\u001B[0m\u001B[1;33m\u001B[0m\u001B[0m\n\u001B[1;32m--> 217\u001B[1;33m             \u001B[0minput\u001B[0m \u001B[1;33m=\u001B[0m \u001B[0mmodule\u001B[0m\u001B[1;33m(\u001B[0m\u001B[0minput\u001B[0m\u001B[1;33m)\u001B[0m\u001B[1;33m\u001B[0m\u001B[1;33m\u001B[0m\u001B[0m\n\u001B[0m\u001B[0;32m    218\u001B[0m         \u001B[1;32mreturn\u001B[0m \u001B[0minput\u001B[0m\u001B[1;33m\u001B[0m\u001B[1;33m\u001B[0m\u001B[0m\n\u001B[0;32m    219\u001B[0m \u001B[1;33m\u001B[0m\u001B[0m\n",
      "\u001B[1;32mc:\\users\\bulkin\\appdata\\local\\programs\\python\\python39\\lib\\site-packages\\torch\\nn\\modules\\module.py\u001B[0m in \u001B[0;36m_call_impl\u001B[1;34m(self, *args, **kwargs)\u001B[0m\n\u001B[0;32m   1499\u001B[0m                 \u001B[1;32mor\u001B[0m \u001B[0m_global_backward_pre_hooks\u001B[0m \u001B[1;32mor\u001B[0m \u001B[0m_global_backward_hooks\u001B[0m\u001B[1;33m\u001B[0m\u001B[1;33m\u001B[0m\u001B[0m\n\u001B[0;32m   1500\u001B[0m                 or _global_forward_hooks or _global_forward_pre_hooks):\n\u001B[1;32m-> 1501\u001B[1;33m             \u001B[1;32mreturn\u001B[0m \u001B[0mforward_call\u001B[0m\u001B[1;33m(\u001B[0m\u001B[1;33m*\u001B[0m\u001B[0margs\u001B[0m\u001B[1;33m,\u001B[0m \u001B[1;33m**\u001B[0m\u001B[0mkwargs\u001B[0m\u001B[1;33m)\u001B[0m\u001B[1;33m\u001B[0m\u001B[1;33m\u001B[0m\u001B[0m\n\u001B[0m\u001B[0;32m   1502\u001B[0m         \u001B[1;31m# Do not call functions when jit is used\u001B[0m\u001B[1;33m\u001B[0m\u001B[1;33m\u001B[0m\u001B[1;33m\u001B[0m\u001B[0m\n\u001B[0;32m   1503\u001B[0m         \u001B[0mfull_backward_hooks\u001B[0m\u001B[1;33m,\u001B[0m \u001B[0mnon_full_backward_hooks\u001B[0m \u001B[1;33m=\u001B[0m \u001B[1;33m[\u001B[0m\u001B[1;33m]\u001B[0m\u001B[1;33m,\u001B[0m \u001B[1;33m[\u001B[0m\u001B[1;33m]\u001B[0m\u001B[1;33m\u001B[0m\u001B[1;33m\u001B[0m\u001B[0m\n",
      "\u001B[1;32mc:\\users\\bulkin\\appdata\\local\\programs\\python\\python39\\lib\\site-packages\\torch\\nn\\modules\\activation.py\u001B[0m in \u001B[0;36mforward\u001B[1;34m(self, input)\u001B[0m\n\u001B[0;32m    101\u001B[0m \u001B[1;33m\u001B[0m\u001B[0m\n\u001B[0;32m    102\u001B[0m     \u001B[1;32mdef\u001B[0m \u001B[0mforward\u001B[0m\u001B[1;33m(\u001B[0m\u001B[0mself\u001B[0m\u001B[1;33m,\u001B[0m \u001B[0minput\u001B[0m\u001B[1;33m:\u001B[0m \u001B[0mTensor\u001B[0m\u001B[1;33m)\u001B[0m \u001B[1;33m->\u001B[0m \u001B[0mTensor\u001B[0m\u001B[1;33m:\u001B[0m\u001B[1;33m\u001B[0m\u001B[1;33m\u001B[0m\u001B[0m\n\u001B[1;32m--> 103\u001B[1;33m         \u001B[1;32mreturn\u001B[0m \u001B[0mF\u001B[0m\u001B[1;33m.\u001B[0m\u001B[0mrelu\u001B[0m\u001B[1;33m(\u001B[0m\u001B[0minput\u001B[0m\u001B[1;33m,\u001B[0m \u001B[0minplace\u001B[0m\u001B[1;33m=\u001B[0m\u001B[0mself\u001B[0m\u001B[1;33m.\u001B[0m\u001B[0minplace\u001B[0m\u001B[1;33m)\u001B[0m\u001B[1;33m\u001B[0m\u001B[1;33m\u001B[0m\u001B[0m\n\u001B[0m\u001B[0;32m    104\u001B[0m \u001B[1;33m\u001B[0m\u001B[0m\n\u001B[0;32m    105\u001B[0m     \u001B[1;32mdef\u001B[0m \u001B[0mextra_repr\u001B[0m\u001B[1;33m(\u001B[0m\u001B[0mself\u001B[0m\u001B[1;33m)\u001B[0m \u001B[1;33m->\u001B[0m \u001B[0mstr\u001B[0m\u001B[1;33m:\u001B[0m\u001B[1;33m\u001B[0m\u001B[1;33m\u001B[0m\u001B[0m\n",
      "\u001B[1;32mc:\\users\\bulkin\\appdata\\local\\programs\\python\\python39\\lib\\site-packages\\torch\\nn\\functional.py\u001B[0m in \u001B[0;36mrelu\u001B[1;34m(input, inplace)\u001B[0m\n\u001B[0;32m   1455\u001B[0m         \u001B[0mresult\u001B[0m \u001B[1;33m=\u001B[0m \u001B[0mtorch\u001B[0m\u001B[1;33m.\u001B[0m\u001B[0mrelu_\u001B[0m\u001B[1;33m(\u001B[0m\u001B[0minput\u001B[0m\u001B[1;33m)\u001B[0m\u001B[1;33m\u001B[0m\u001B[1;33m\u001B[0m\u001B[0m\n\u001B[0;32m   1456\u001B[0m     \u001B[1;32melse\u001B[0m\u001B[1;33m:\u001B[0m\u001B[1;33m\u001B[0m\u001B[1;33m\u001B[0m\u001B[0m\n\u001B[1;32m-> 1457\u001B[1;33m         \u001B[0mresult\u001B[0m \u001B[1;33m=\u001B[0m \u001B[0mtorch\u001B[0m\u001B[1;33m.\u001B[0m\u001B[0mrelu\u001B[0m\u001B[1;33m(\u001B[0m\u001B[0minput\u001B[0m\u001B[1;33m)\u001B[0m\u001B[1;33m\u001B[0m\u001B[1;33m\u001B[0m\u001B[0m\n\u001B[0m\u001B[0;32m   1458\u001B[0m     \u001B[1;32mreturn\u001B[0m \u001B[0mresult\u001B[0m\u001B[1;33m\u001B[0m\u001B[1;33m\u001B[0m\u001B[0m\n\u001B[0;32m   1459\u001B[0m \u001B[1;33m\u001B[0m\u001B[0m\n",
      "\u001B[1;31mKeyboardInterrupt\u001B[0m: "
     ]
    }
   ],
   "source": [
    "import random\n",
    "from tqdm import tqdm\n",
    "scores_reached = []\n",
    "\n",
    "import gym\n",
    "with open('results_2.txt', 'w') as file:\n",
    "    file.write('\\n')\n",
    "\n",
    "\n",
    "max_score = -21\n",
    "env = gym.make(\"ALE/Pong-v5\") # create the Pong environment\n",
    "epsilon = 0.5 - ((max_score + 21) / 42) * 0.5\n",
    "\n",
    "for episode in tqdm(range(1000)):\n",
    "    observation, _ = env.reset() # reset the environment and get the initial observation\n",
    "    state_change = agent.getStateChangeAndUpdatePrevious(\n",
    "        ProcessState.fromObservation(observation)\n",
    "    )\n",
    "    history = History()\n",
    "    score = 0\n",
    "    while True:\n",
    "        # print(state_change)\\\n",
    "        if random.random() < epsilon:\n",
    "            action = env.action_space.sample()\n",
    "        action, log_prob = agent.selectAction(state_change)\n",
    "        new_observation, reward, done, _, _ = env.step(action)\n",
    "\n",
    "        new_state = ProcessState.fromObservation(new_observation)\n",
    "        state_change = agent.getStateChangeAndUpdatePrevious(new_state)\n",
    "        score += reward\n",
    "        history.addStep(Step(state_change, action, reward, log_prob))\n",
    "        if done:\n",
    "            break\n",
    "    scores_reached.append(score)\n",
    "    SV_ANN_loss, PLC_ANN_loss = agent.learn(history)\n",
    "    with open('results_2.txt', 'a') as file:\n",
    "        file.write(f\"{score};{SV_ANN_loss};{PLC_ANN_loss}\\n\")\n",
    "    if score > max_score:\n",
    "        max_score = score\n",
    "        torch.save(agent.state_value_approximation_network, \"SVA_ANN.ann\")\n",
    "        torch.save(agent.policy_network, \"PLC_ANN.ann\")\n",
    "env.close()"
   ],
   "metadata": {
    "collapsed": false,
    "pycharm": {
     "name": "#%%\n"
    }
   }
  },
  {
   "cell_type": "code",
   "execution_count": 129,
   "outputs": [
    {
     "data": {
      "text/plain": "<Figure size 432x288 with 1 Axes>",
      "image/png": "[encoded data removed]"
     },
     "metadata": {
      "needs_background": "light"
     },
     "output_type": "display_data"
    }
   ],
   "source": [
    "import matplotlib.pyplot as plt\n",
    "\n",
    "critic_loss_1: list[float] = list()\n",
    "critic_loss_2: list[float] = list()\n",
    "with open('results_1.txt', 'r') as file:\n",
    "    for line in file.read().split('\\n'):\n",
    "        try: critic_loss_1.append(float(line.split(';')[1]))\n",
    "        except Exception: continue\n",
    "with open('results_2.txt', 'r') as file:\n",
    "    for line in file.read().split('\\n'):\n",
    "        try: critic_loss_2.append(float(line.split(';')[1]))\n",
    "        except Exception: continue\n",
    "\n",
    "plt.plot(critic_loss_1[3:], color='red', label='DF = 0.6')\n",
    "plt.plot(critic_loss_2[3:], color='blue', label ='DF = 0.99')\n",
    "plt.legend()\n",
    "plt.show()"
   ],
   "metadata": {
    "collapsed": false,
    "pycharm": {
     "name": "#%%\n"
    }
   }
  },
  {
   "cell_type": "markdown",
   "source": [
    "### Good Luck!"
   ],
   "metadata": {
    "id": "LjLQtO8UdtEj"
   }
  }
 ]
}